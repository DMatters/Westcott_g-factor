{
 "cells": [
  {
   "cell_type": "code",
   "execution_count": 1,
   "id": "5da77a6b-668a-4dc7-8407-0a42db414317",
   "metadata": {},
   "outputs": [],
   "source": [
    "# Import packages\n",
    "import math as m\n",
    "import numpy as np\n",
    "from scipy.integrate import quad, trapezoid, simpson\n",
    "import matplotlib.pyplot as plt\n",
    "import csv"
   ]
  },
  {
   "cell_type": "code",
   "execution_count": 2,
   "id": "7fb898d8-82ea-43a2-9975-894c3338cc94",
   "metadata": {},
   "outputs": [],
   "source": [
    "# Define constants\n",
    "N_A = 6.02e23 #[mol^-1] Avogadro's number\n",
    "at_mass_al = 26.981539\n",
    "at_mass_si = 28.0855\n",
    "cs_al = 0.9e-24 #[cm^2] ENDF cross section for 27Al(n,inl) at 10 MeV\n",
    "rho_al = 2.699 #[g/cm^3]\n",
    "rho_si = 2.330 #[g/cm^3]\n",
    "mu_over_rho_en_si = 2.875E-02 #[cm^2/g]x-ray attenuation coefficient at 800 keV (close to 843 keV gamma from (n,n')"
   ]
  },
  {
   "cell_type": "code",
   "execution_count": 3,
   "id": "b7df62f7-f18d-4a90-a12c-505064835373",
   "metadata": {},
   "outputs": [],
   "source": [
    "# Calculate mean free path for neutron in Al\n",
    "macro_cs_al = cs_al * rho_al * N_A / at_mass_al\n",
    "mfp_al = 1/macro_cs_al"
   ]
  },
  {
   "cell_type": "code",
   "execution_count": 4,
   "id": "8b433a7c-a01d-471c-bde6-e13cea4cfc14",
   "metadata": {},
   "outputs": [
    {
     "data": {
      "text/plain": [
       "np.float64(0.10272598127622945)"
      ]
     },
     "execution_count": 4,
     "metadata": {},
     "output_type": "execute_result"
    }
   ],
   "source": [
    "#Approximately 10% of the neutrons scatter in the Al to produce a gamma:\n",
    "1-np.exp(-2.0/mfp_al)"
   ]
  },
  {
   "cell_type": "code",
   "execution_count": 5,
   "id": "7c8af848-d0ab-44b8-b4df-2ae3e75c79a5",
   "metadata": {},
   "outputs": [
    {
     "data": {
      "text/plain": [
       "np.float64(250.39344612337607)"
      ]
     },
     "execution_count": 5,
     "metadata": {},
     "output_type": "execute_result"
    }
   ],
   "source": [
    "#Apply this to the Si test article, assuming all gammas are 843 keV and deposit all their energy in the 1-cm thick test article \n",
    "gamma_flux = 1e14 * 1-np.exp(-2.0/mfp_al)\n",
    "gamma_E_absorbed = gamma_flux * (1 - np.exp(-mu_over_rho_en_si * rho_si * 1.0)) * 843.0 * 1000 * 1.602189e-19  #[J]\n",
    "mass_tgt = (0.3 * 0.5 * 1.0) * rho_si / 1000 #[kg]\n",
    "dose_Gy = gamma_E_absorbed/mass_tgt\n",
    "dose_kRad = dose_Gy * 0.1\n",
    "dose_kRad"
   ]
  }
 ],
 "metadata": {
  "kernelspec": {
   "display_name": "Python 3 (ipykernel)",
   "language": "python",
   "name": "python3"
  },
  "language_info": {
   "codemirror_mode": {
    "name": "ipython",
    "version": 3
   },
   "file_extension": ".py",
   "mimetype": "text/x-python",
   "name": "python",
   "nbconvert_exporter": "python",
   "pygments_lexer": "ipython3",
   "version": "3.13.0"
  }
 },
 "nbformat": 4,
 "nbformat_minor": 5
}
