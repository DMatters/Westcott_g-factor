{
 "cells": [
  {
   "cell_type": "code",
   "execution_count": 1,
   "id": "7a3801b6",
   "metadata": {},
   "outputs": [],
   "source": [
    "from fudge import map as fudgeMap\n",
    "import pandas as pd\n",
    "pd.set_option('display.max_rows', None)\n",
    "import matplotlib.pyplot as plt\n",
    "#%matplotlib notebook"
   ]
  },
  {
   "cell_type": "code",
   "execution_count": 2,
   "id": "9bd290b4",
   "metadata": {},
   "outputs": [],
   "source": [
    "ENDF81 = fudgeMap.read(\"/Users/davidmatters/ENDF/ENDF-B-VIII.1-GNDS/neutrons.map\")"
   ]
  },
  {
   "cell_type": "code",
   "execution_count": 3,
   "id": "432c189e",
   "metadata": {},
   "outputs": [
    {
     "name": "stdout",
     "output_type": "stream",
     "text": [
      "List object contains 558 n-reaction targets from XML-formatted ENDF libraries.\n",
      "\n",
      "['Ac225', 'Ac226', 'Ac227', 'Ag107', 'Ag108', 'Ag109', 'Ag110_m1', 'Ag111', 'Ag112', 'Ag113', 'Ag114', 'Ag115', 'Ag116', 'Ag117', 'Ag118_m1', 'Al26_m1', 'Al27', 'Am240', 'Am241', 'Am242', 'Am242_m1', 'Am243', 'Am244', 'Am244_m1', 'Ar36', 'Ar37', 'Ar38', 'Ar39', 'Ar40', 'Ar41', 'As73', 'As74', 'As75', 'Au197', 'B10', 'B11', 'Ba130', 'Ba131', 'Ba132', 'Ba133', 'Ba134', 'Ba135', 'Ba136', 'Ba137', 'Ba138', 'Ba139', 'Ba140', 'Be7', 'Be9', 'Bi209', 'Bi210_m1', 'Bk245', 'Bk246', 'Bk247', 'Bk248', 'Bk249', 'Bk250', 'Br79', 'Br80', 'Br81', 'C12', 'C13', 'Ca40', 'Ca41', 'Ca42', 'Ca43', 'Ca44', 'Ca45', 'Ca46', 'Ca47', 'Ca48', 'Cd106', 'Cd107', 'Cd108', 'Cd109', 'Cd110', 'Cd111', 'Cd112', 'Cd113', 'Cd114', 'Cd115_m1', 'Cd116', 'Ce136', 'Ce137', 'Ce137_m1', 'Ce138', 'Ce139', 'Ce140', 'Ce141', 'Ce142', 'Ce143', 'Ce144', 'Cf246', 'Cf247', 'Cf248', 'Cf249', 'Cf250', 'Cf251', 'Cf252', 'Cf253', 'Cf254', 'Cl35', 'Cl36', 'Cl37', 'Cm240', 'Cm241', 'Cm242', 'Cm243', 'Cm244', 'Cm245', 'Cm246', 'Cm247', 'Cm248', 'Cm249', 'Cm250', 'Co58', 'Co58_m1', 'Co59', 'Cr50', 'Cr51', 'Cr52', 'Cr53', 'Cr54', 'Cs133', 'Cs134', 'Cs135', 'Cs136', 'Cs137', 'Cu63', 'Cu64', 'Cu65', 'Dy154', 'Dy155', 'Dy156', 'Dy157', 'Dy158', 'Dy159', 'Dy160', 'Dy161', 'Dy162', 'Dy163', 'Dy164', 'Er162', 'Er163', 'Er164', 'Er165', 'Er166', 'Er167', 'Er168', 'Er169', 'Er170', 'Es251', 'Es252', 'Es253', 'Es254', 'Es254_m1', 'Es255', 'Eu151', 'Eu152', 'Eu153', 'Eu154', 'Eu155', 'Eu156', 'Eu157', 'F19', 'Fe54', 'Fe55', 'Fe56', 'Fe57', 'Fe58', 'Fm255', 'Ga69', 'Ga70', 'Ga71', 'Gd152', 'Gd153', 'Gd154', 'Gd155', 'Gd156', 'Gd157', 'Gd158', 'Gd159', 'Gd160', 'Ge70', 'Ge71', 'Ge72', 'Ge73', 'Ge74', 'Ge75', 'Ge76', 'H1', 'H2', 'H3', 'He3', 'He4', 'Hf174', 'Hf175', 'Hf176', 'Hf177', 'Hf178', 'Hf179', 'Hf180', 'Hf181', 'Hf182', 'Hg196', 'Hg197', 'Hg197_m1', 'Hg198', 'Hg199', 'Hg200', 'Hg201', 'Hg202', 'Hg203', 'Hg204', 'Ho165', 'Ho166_m1', 'I127', 'I128', 'I129', 'I130', 'I131', 'I132', 'I132_m1', 'I133', 'I134', 'I135', 'In113', 'In114', 'In115', 'Ir191', 'Ir192', 'Ir193', 'Ir194_m1', 'K39', 'K40', 'K41', 'Kr78', 'Kr79', 'Kr80', 'Kr81', 'Kr82', 'Kr83', 'Kr84', 'Kr85', 'Kr86', 'La138', 'La139', 'La140', 'Li6', 'Li7', 'Lu175', 'Lu176', 'Mg24', 'Mg25', 'Mg26', 'Mn54', 'Mn55', 'Mo100', 'Mo92', 'Mo93', 'Mo94', 'Mo95', 'Mo96', 'Mo97', 'Mo98', 'Mo99', 'N14', 'N15', 'Na22', 'Na23', 'Nb93', 'Nb94', 'Nb95', 'Nd142', 'Nd143', 'Nd144', 'Nd145', 'Nd146', 'Nd147', 'Nd148', 'Nd149', 'Nd150', 'Ne20', 'Ne21', 'Ne22', 'Ni58', 'Ni59', 'Ni60', 'Ni61', 'Ni62', 'Ni63', 'Ni64', 'Np234', 'Np235', 'Np236', 'Np236_m1', 'Np237', 'Np238', 'Np239', 'O16', 'O17', 'O18', 'Os184', 'Os185', 'Os186', 'Os187', 'Os188', 'Os189', 'Os190', 'Os191', 'Os192', 'P31', 'Pa229', 'Pa230', 'Pa231', 'Pa232', 'Pa233', 'Pb204', 'Pb205', 'Pb206', 'Pb207', 'Pb208', 'Pd102', 'Pd103', 'Pd104', 'Pd105', 'Pd106', 'Pd107', 'Pd108', 'Pd109', 'Pd110', 'Pm143', 'Pm144', 'Pm145', 'Pm146', 'Pm147', 'Pm148', 'Pm148_m1', 'Pm149', 'Pm150', 'Pm151', 'Po208', 'Po209', 'Po210', 'Pr141', 'Pr142', 'Pr143', 'Pt190', 'Pt191', 'Pt192', 'Pt193', 'Pt194', 'Pt195', 'Pt196', 'Pt197', 'Pt198', 'Pu236', 'Pu237', 'Pu238', 'Pu239', 'Pu240', 'Pu241', 'Pu242', 'Pu243', 'Pu244', 'Pu245', 'Pu246', 'Ra223', 'Ra224', 'Ra225', 'Ra226', 'Rb85', 'Rb86', 'Rb87', 'Re185', 'Re186_m1', 'Re187', 'Rh103', 'Rh104', 'Rh105', 'Ru100', 'Ru101', 'Ru102', 'Ru103', 'Ru104', 'Ru105', 'Ru106', 'Ru96', 'Ru97', 'Ru98', 'Ru99', 'S32', 'S33', 'S34', 'S35', 'S36', 'Sb121', 'Sb122', 'Sb123', 'Sb124', 'Sb125', 'Sb126', 'Sc45', 'Se74', 'Se75', 'Se76', 'Se77', 'Se78', 'Se79', 'Se80', 'Se81', 'Se82', 'Si28', 'Si29', 'Si30', 'Si31', 'Si32', 'Sm144', 'Sm145', 'Sm146', 'Sm147', 'Sm148', 'Sm149', 'Sm150', 'Sm151', 'Sm152', 'Sm153', 'Sm154', 'Sn112', 'Sn113', 'Sn114', 'Sn115', 'Sn116', 'Sn117', 'Sn118', 'Sn119', 'Sn120', 'Sn121_m1', 'Sn122', 'Sn123', 'Sn124', 'Sn125', 'Sn126', 'Sr84', 'Sr85', 'Sr86', 'Sr87', 'Sr88', 'Sr89', 'Sr90', 'Ta180', 'Ta180_m1', 'Ta181', 'Ta182', 'Tb158', 'Tb159', 'Tb160', 'Tb161', 'Tc98', 'Tc99', 'Te120', 'Te121', 'Te121_m1', 'Te122', 'Te123', 'Te124', 'Te125', 'Te126', 'Te127_m1', 'Te128', 'Te129_m1', 'Te130', 'Te131', 'Te131_m1', 'Te132', 'Th227', 'Th228', 'Th229', 'Th230', 'Th231', 'Th232', 'Th233', 'Th234', 'Ti46', 'Ti47', 'Ti48', 'Ti49', 'Ti50', 'Tl203', 'Tl204', 'Tl205', 'Tm168', 'Tm169', 'Tm170', 'Tm171', 'U230', 'U231', 'U232', 'U233', 'U234', 'U235', 'U236', 'U237', 'U238', 'U239', 'U240', 'U241', 'V49', 'V50', 'V51', 'W180', 'W181', 'W182', 'W183', 'W184', 'W185', 'W186', 'Xe123', 'Xe124', 'Xe125', 'Xe126', 'Xe127', 'Xe128', 'Xe129', 'Xe130', 'Xe131', 'Xe132', 'Xe133', 'Xe134', 'Xe135', 'Xe136', 'Y89', 'Y90', 'Y91', 'Yb168', 'Yb169', 'Yb170', 'Yb171', 'Yb172', 'Yb173', 'Yb174', 'Yb175', 'Yb176', 'Zn64', 'Zn65', 'Zn66', 'Zn67', 'Zn68', 'Zn69', 'Zn70', 'Zr90', 'Zr91', 'Zr92', 'Zr93', 'Zr94', 'Zr95', 'Zr96', 'n1']\n"
     ]
    }
   ],
   "source": [
    "# Create list of neutron targets from XML ENDF files\n",
    "import glob\n",
    "ENDF_XML_PATH = '/Users/davidmatters/ENDF/ENDF-B-VIII.1-GNDS/neutrons'\n",
    "xml_list = [x for x in glob.glob(\"%s/*.xml\"%ENDF_XML_PATH)]\n",
    "n_targets = []\n",
    "for xml in xml_list:\n",
    "    xml_file = xml.split('neutrons/')[1]\n",
    "    Z = int(xml_file.split('n-')[1].split('_')[0])\n",
    "    element = xml_file.split('_')[1]\n",
    "    A = None\n",
    "    try:\n",
    "        A = int(xml_file.split('_')[2].split('.')[0])\n",
    "    except ValueError:\n",
    "        A = xml_file.split('_')[2].split('.')[0]\n",
    "        if 'm' in A:\n",
    "            if A[0]=='0' and A[1]=='0':\n",
    "                A = A.strip(A[0:2])\n",
    "            elif A[0]=='0':\n",
    "                A = A.strip(A[0:1])\n",
    "            else:\n",
    "                pass\n",
    "            A = A.replace('m','_m')\n",
    "                    \n",
    "    n_targets.append(element+str(A))\n",
    "n_targets = sorted(n_targets)\n",
    "print(\"List object contains {0} n-reaction targets from XML-formatted ENDF libraries.\\n\".format(len(n_targets)))\n",
    "print(n_targets)"
   ]
  },
  {
   "cell_type": "code",
   "execution_count": 4,
   "id": "8503227a",
   "metadata": {},
   "outputs": [],
   "source": [
    "# Do a test loop over all of the Si data\n",
    "silicon = ['Si28','Si29','Si30','Si31','Si32']"
   ]
  },
  {
   "cell_type": "code",
   "execution_count": 6,
   "id": "71044d87",
   "metadata": {},
   "outputs": [
    {
     "name": "stdout",
     "output_type": "stream",
     "text": [
      "Si29\n",
      "Si29 + photon [inclusive]\n"
     ]
    },
    {
     "ename": "OSError",
     "evalue": "Cannot save file into a non-existent directory: 'capture_data'",
     "output_type": "error",
     "traceback": [
      "\u001b[0;31m---------------------------------------------------------------------------\u001b[0m",
      "\u001b[0;31mOSError\u001b[0m                                   Traceback (most recent call last)",
      "Cell \u001b[0;32mIn[6], line 37\u001b[0m\n\u001b[1;32m     35\u001b[0m \u001b[38;5;28;01mtry\u001b[39;00m:\n\u001b[1;32m     36\u001b[0m     df_cs \u001b[38;5;241m=\u001b[39m pd\u001b[38;5;241m.\u001b[39mDataFrame(\u001b[38;5;28mlist\u001b[39m(cs_data), columns\u001b[38;5;241m=\u001b[39mcolumns)\n\u001b[0;32m---> 37\u001b[0m     \u001b[43mdf_cs\u001b[49m\u001b[38;5;241;43m.\u001b[39;49m\u001b[43mto_csv\u001b[49m\u001b[43m(\u001b[49m\u001b[38;5;124;43m\"\u001b[39;49m\u001b[38;5;132;43;01m{0}\u001b[39;49;00m\u001b[38;5;124;43m/n-capture-\u001b[39;49m\u001b[38;5;132;43;01m{1}\u001b[39;49;00m\u001b[38;5;124;43m.csv\u001b[39;49m\u001b[38;5;124;43m\"\u001b[39;49m\u001b[38;5;241;43m.\u001b[39;49m\u001b[43mformat\u001b[49m\u001b[43m(\u001b[49m\u001b[43mTARGETDIR_CAPTURE\u001b[49m\u001b[43m,\u001b[49m\u001b[43mt\u001b[49m\u001b[43m)\u001b[49m\u001b[43m,\u001b[49m\u001b[43m \u001b[49m\u001b[43mindex\u001b[49m\u001b[38;5;241;43m=\u001b[39;49m\u001b[38;5;28;43;01mFalse\u001b[39;49;00m\u001b[43m)\u001b[49m\n\u001b[1;32m     38\u001b[0m \u001b[38;5;28;01mexcept\u001b[39;00m \u001b[38;5;167;01mTypeError\u001b[39;00m:\n\u001b[1;32m     39\u001b[0m     \u001b[38;5;28;01mif\u001b[39;00m cs_data \u001b[38;5;129;01mis\u001b[39;00m \u001b[38;5;28;01mNone\u001b[39;00m:\n",
      "File \u001b[0;32m~/.pyenv/versions/3.13.0/lib/python3.13/site-packages/pandas/util/_decorators.py:333\u001b[0m, in \u001b[0;36mdeprecate_nonkeyword_arguments.<locals>.decorate.<locals>.wrapper\u001b[0;34m(*args, **kwargs)\u001b[0m\n\u001b[1;32m    327\u001b[0m \u001b[38;5;28;01mif\u001b[39;00m \u001b[38;5;28mlen\u001b[39m(args) \u001b[38;5;241m>\u001b[39m num_allow_args:\n\u001b[1;32m    328\u001b[0m     warnings\u001b[38;5;241m.\u001b[39mwarn(\n\u001b[1;32m    329\u001b[0m         msg\u001b[38;5;241m.\u001b[39mformat(arguments\u001b[38;5;241m=\u001b[39m_format_argument_list(allow_args)),\n\u001b[1;32m    330\u001b[0m         \u001b[38;5;167;01mFutureWarning\u001b[39;00m,\n\u001b[1;32m    331\u001b[0m         stacklevel\u001b[38;5;241m=\u001b[39mfind_stack_level(),\n\u001b[1;32m    332\u001b[0m     )\n\u001b[0;32m--> 333\u001b[0m \u001b[38;5;28;01mreturn\u001b[39;00m \u001b[43mfunc\u001b[49m\u001b[43m(\u001b[49m\u001b[38;5;241;43m*\u001b[39;49m\u001b[43margs\u001b[49m\u001b[43m,\u001b[49m\u001b[43m \u001b[49m\u001b[38;5;241;43m*\u001b[39;49m\u001b[38;5;241;43m*\u001b[39;49m\u001b[43mkwargs\u001b[49m\u001b[43m)\u001b[49m\n",
      "File \u001b[0;32m~/.pyenv/versions/3.13.0/lib/python3.13/site-packages/pandas/core/generic.py:3967\u001b[0m, in \u001b[0;36mNDFrame.to_csv\u001b[0;34m(self, path_or_buf, sep, na_rep, float_format, columns, header, index, index_label, mode, encoding, compression, quoting, quotechar, lineterminator, chunksize, date_format, doublequote, escapechar, decimal, errors, storage_options)\u001b[0m\n\u001b[1;32m   3956\u001b[0m df \u001b[38;5;241m=\u001b[39m \u001b[38;5;28mself\u001b[39m \u001b[38;5;28;01mif\u001b[39;00m \u001b[38;5;28misinstance\u001b[39m(\u001b[38;5;28mself\u001b[39m, ABCDataFrame) \u001b[38;5;28;01melse\u001b[39;00m \u001b[38;5;28mself\u001b[39m\u001b[38;5;241m.\u001b[39mto_frame()\n\u001b[1;32m   3958\u001b[0m formatter \u001b[38;5;241m=\u001b[39m DataFrameFormatter(\n\u001b[1;32m   3959\u001b[0m     frame\u001b[38;5;241m=\u001b[39mdf,\n\u001b[1;32m   3960\u001b[0m     header\u001b[38;5;241m=\u001b[39mheader,\n\u001b[0;32m   (...)\u001b[0m\n\u001b[1;32m   3964\u001b[0m     decimal\u001b[38;5;241m=\u001b[39mdecimal,\n\u001b[1;32m   3965\u001b[0m )\n\u001b[0;32m-> 3967\u001b[0m \u001b[38;5;28;01mreturn\u001b[39;00m \u001b[43mDataFrameRenderer\u001b[49m\u001b[43m(\u001b[49m\u001b[43mformatter\u001b[49m\u001b[43m)\u001b[49m\u001b[38;5;241;43m.\u001b[39;49m\u001b[43mto_csv\u001b[49m\u001b[43m(\u001b[49m\n\u001b[1;32m   3968\u001b[0m \u001b[43m    \u001b[49m\u001b[43mpath_or_buf\u001b[49m\u001b[43m,\u001b[49m\n\u001b[1;32m   3969\u001b[0m \u001b[43m    \u001b[49m\u001b[43mlineterminator\u001b[49m\u001b[38;5;241;43m=\u001b[39;49m\u001b[43mlineterminator\u001b[49m\u001b[43m,\u001b[49m\n\u001b[1;32m   3970\u001b[0m \u001b[43m    \u001b[49m\u001b[43msep\u001b[49m\u001b[38;5;241;43m=\u001b[39;49m\u001b[43msep\u001b[49m\u001b[43m,\u001b[49m\n\u001b[1;32m   3971\u001b[0m \u001b[43m    \u001b[49m\u001b[43mencoding\u001b[49m\u001b[38;5;241;43m=\u001b[39;49m\u001b[43mencoding\u001b[49m\u001b[43m,\u001b[49m\n\u001b[1;32m   3972\u001b[0m \u001b[43m    \u001b[49m\u001b[43merrors\u001b[49m\u001b[38;5;241;43m=\u001b[39;49m\u001b[43merrors\u001b[49m\u001b[43m,\u001b[49m\n\u001b[1;32m   3973\u001b[0m \u001b[43m    \u001b[49m\u001b[43mcompression\u001b[49m\u001b[38;5;241;43m=\u001b[39;49m\u001b[43mcompression\u001b[49m\u001b[43m,\u001b[49m\n\u001b[1;32m   3974\u001b[0m \u001b[43m    \u001b[49m\u001b[43mquoting\u001b[49m\u001b[38;5;241;43m=\u001b[39;49m\u001b[43mquoting\u001b[49m\u001b[43m,\u001b[49m\n\u001b[1;32m   3975\u001b[0m \u001b[43m    \u001b[49m\u001b[43mcolumns\u001b[49m\u001b[38;5;241;43m=\u001b[39;49m\u001b[43mcolumns\u001b[49m\u001b[43m,\u001b[49m\n\u001b[1;32m   3976\u001b[0m \u001b[43m    \u001b[49m\u001b[43mindex_label\u001b[49m\u001b[38;5;241;43m=\u001b[39;49m\u001b[43mindex_label\u001b[49m\u001b[43m,\u001b[49m\n\u001b[1;32m   3977\u001b[0m \u001b[43m    \u001b[49m\u001b[43mmode\u001b[49m\u001b[38;5;241;43m=\u001b[39;49m\u001b[43mmode\u001b[49m\u001b[43m,\u001b[49m\n\u001b[1;32m   3978\u001b[0m \u001b[43m    \u001b[49m\u001b[43mchunksize\u001b[49m\u001b[38;5;241;43m=\u001b[39;49m\u001b[43mchunksize\u001b[49m\u001b[43m,\u001b[49m\n\u001b[1;32m   3979\u001b[0m \u001b[43m    \u001b[49m\u001b[43mquotechar\u001b[49m\u001b[38;5;241;43m=\u001b[39;49m\u001b[43mquotechar\u001b[49m\u001b[43m,\u001b[49m\n\u001b[1;32m   3980\u001b[0m \u001b[43m    \u001b[49m\u001b[43mdate_format\u001b[49m\u001b[38;5;241;43m=\u001b[39;49m\u001b[43mdate_format\u001b[49m\u001b[43m,\u001b[49m\n\u001b[1;32m   3981\u001b[0m \u001b[43m    \u001b[49m\u001b[43mdoublequote\u001b[49m\u001b[38;5;241;43m=\u001b[39;49m\u001b[43mdoublequote\u001b[49m\u001b[43m,\u001b[49m\n\u001b[1;32m   3982\u001b[0m \u001b[43m    \u001b[49m\u001b[43mescapechar\u001b[49m\u001b[38;5;241;43m=\u001b[39;49m\u001b[43mescapechar\u001b[49m\u001b[43m,\u001b[49m\n\u001b[1;32m   3983\u001b[0m \u001b[43m    \u001b[49m\u001b[43mstorage_options\u001b[49m\u001b[38;5;241;43m=\u001b[39;49m\u001b[43mstorage_options\u001b[49m\u001b[43m,\u001b[49m\n\u001b[1;32m   3984\u001b[0m \u001b[43m\u001b[49m\u001b[43m)\u001b[49m\n",
      "File \u001b[0;32m~/.pyenv/versions/3.13.0/lib/python3.13/site-packages/pandas/io/formats/format.py:1014\u001b[0m, in \u001b[0;36mDataFrameRenderer.to_csv\u001b[0;34m(self, path_or_buf, encoding, sep, columns, index_label, mode, compression, quoting, quotechar, lineterminator, chunksize, date_format, doublequote, escapechar, errors, storage_options)\u001b[0m\n\u001b[1;32m    993\u001b[0m     created_buffer \u001b[38;5;241m=\u001b[39m \u001b[38;5;28;01mFalse\u001b[39;00m\n\u001b[1;32m    995\u001b[0m csv_formatter \u001b[38;5;241m=\u001b[39m CSVFormatter(\n\u001b[1;32m    996\u001b[0m     path_or_buf\u001b[38;5;241m=\u001b[39mpath_or_buf,\n\u001b[1;32m    997\u001b[0m     lineterminator\u001b[38;5;241m=\u001b[39mlineterminator,\n\u001b[0;32m   (...)\u001b[0m\n\u001b[1;32m   1012\u001b[0m     formatter\u001b[38;5;241m=\u001b[39m\u001b[38;5;28mself\u001b[39m\u001b[38;5;241m.\u001b[39mfmt,\n\u001b[1;32m   1013\u001b[0m )\n\u001b[0;32m-> 1014\u001b[0m \u001b[43mcsv_formatter\u001b[49m\u001b[38;5;241;43m.\u001b[39;49m\u001b[43msave\u001b[49m\u001b[43m(\u001b[49m\u001b[43m)\u001b[49m\n\u001b[1;32m   1016\u001b[0m \u001b[38;5;28;01mif\u001b[39;00m created_buffer:\n\u001b[1;32m   1017\u001b[0m     \u001b[38;5;28;01massert\u001b[39;00m \u001b[38;5;28misinstance\u001b[39m(path_or_buf, StringIO)\n",
      "File \u001b[0;32m~/.pyenv/versions/3.13.0/lib/python3.13/site-packages/pandas/io/formats/csvs.py:251\u001b[0m, in \u001b[0;36mCSVFormatter.save\u001b[0;34m(self)\u001b[0m\n\u001b[1;32m    247\u001b[0m \u001b[38;5;250m\u001b[39m\u001b[38;5;124;03m\"\"\"\u001b[39;00m\n\u001b[1;32m    248\u001b[0m \u001b[38;5;124;03mCreate the writer & save.\u001b[39;00m\n\u001b[1;32m    249\u001b[0m \u001b[38;5;124;03m\"\"\"\u001b[39;00m\n\u001b[1;32m    250\u001b[0m \u001b[38;5;66;03m# apply compression and byte/text conversion\u001b[39;00m\n\u001b[0;32m--> 251\u001b[0m \u001b[38;5;28;01mwith\u001b[39;00m \u001b[43mget_handle\u001b[49m\u001b[43m(\u001b[49m\n\u001b[1;32m    252\u001b[0m \u001b[43m    \u001b[49m\u001b[38;5;28;43mself\u001b[39;49m\u001b[38;5;241;43m.\u001b[39;49m\u001b[43mfilepath_or_buffer\u001b[49m\u001b[43m,\u001b[49m\n\u001b[1;32m    253\u001b[0m \u001b[43m    \u001b[49m\u001b[38;5;28;43mself\u001b[39;49m\u001b[38;5;241;43m.\u001b[39;49m\u001b[43mmode\u001b[49m\u001b[43m,\u001b[49m\n\u001b[1;32m    254\u001b[0m \u001b[43m    \u001b[49m\u001b[43mencoding\u001b[49m\u001b[38;5;241;43m=\u001b[39;49m\u001b[38;5;28;43mself\u001b[39;49m\u001b[38;5;241;43m.\u001b[39;49m\u001b[43mencoding\u001b[49m\u001b[43m,\u001b[49m\n\u001b[1;32m    255\u001b[0m \u001b[43m    \u001b[49m\u001b[43merrors\u001b[49m\u001b[38;5;241;43m=\u001b[39;49m\u001b[38;5;28;43mself\u001b[39;49m\u001b[38;5;241;43m.\u001b[39;49m\u001b[43merrors\u001b[49m\u001b[43m,\u001b[49m\n\u001b[1;32m    256\u001b[0m \u001b[43m    \u001b[49m\u001b[43mcompression\u001b[49m\u001b[38;5;241;43m=\u001b[39;49m\u001b[38;5;28;43mself\u001b[39;49m\u001b[38;5;241;43m.\u001b[39;49m\u001b[43mcompression\u001b[49m\u001b[43m,\u001b[49m\n\u001b[1;32m    257\u001b[0m \u001b[43m    \u001b[49m\u001b[43mstorage_options\u001b[49m\u001b[38;5;241;43m=\u001b[39;49m\u001b[38;5;28;43mself\u001b[39;49m\u001b[38;5;241;43m.\u001b[39;49m\u001b[43mstorage_options\u001b[49m\u001b[43m,\u001b[49m\n\u001b[1;32m    258\u001b[0m \u001b[43m\u001b[49m\u001b[43m)\u001b[49m \u001b[38;5;28;01mas\u001b[39;00m handles:\n\u001b[1;32m    259\u001b[0m     \u001b[38;5;66;03m# Note: self.encoding is irrelevant here\u001b[39;00m\n\u001b[1;32m    260\u001b[0m     \u001b[38;5;28mself\u001b[39m\u001b[38;5;241m.\u001b[39mwriter \u001b[38;5;241m=\u001b[39m csvlib\u001b[38;5;241m.\u001b[39mwriter(\n\u001b[1;32m    261\u001b[0m         handles\u001b[38;5;241m.\u001b[39mhandle,\n\u001b[1;32m    262\u001b[0m         lineterminator\u001b[38;5;241m=\u001b[39m\u001b[38;5;28mself\u001b[39m\u001b[38;5;241m.\u001b[39mlineterminator,\n\u001b[0;32m   (...)\u001b[0m\n\u001b[1;32m    267\u001b[0m         quotechar\u001b[38;5;241m=\u001b[39m\u001b[38;5;28mself\u001b[39m\u001b[38;5;241m.\u001b[39mquotechar,\n\u001b[1;32m    268\u001b[0m     )\n\u001b[1;32m    270\u001b[0m     \u001b[38;5;28mself\u001b[39m\u001b[38;5;241m.\u001b[39m_save()\n",
      "File \u001b[0;32m~/.pyenv/versions/3.13.0/lib/python3.13/site-packages/pandas/io/common.py:749\u001b[0m, in \u001b[0;36mget_handle\u001b[0;34m(path_or_buf, mode, encoding, compression, memory_map, is_text, errors, storage_options)\u001b[0m\n\u001b[1;32m    747\u001b[0m \u001b[38;5;66;03m# Only for write methods\u001b[39;00m\n\u001b[1;32m    748\u001b[0m \u001b[38;5;28;01mif\u001b[39;00m \u001b[38;5;124m\"\u001b[39m\u001b[38;5;124mr\u001b[39m\u001b[38;5;124m\"\u001b[39m \u001b[38;5;129;01mnot\u001b[39;00m \u001b[38;5;129;01min\u001b[39;00m mode \u001b[38;5;129;01mand\u001b[39;00m is_path:\n\u001b[0;32m--> 749\u001b[0m     \u001b[43mcheck_parent_directory\u001b[49m\u001b[43m(\u001b[49m\u001b[38;5;28;43mstr\u001b[39;49m\u001b[43m(\u001b[49m\u001b[43mhandle\u001b[49m\u001b[43m)\u001b[49m\u001b[43m)\u001b[49m\n\u001b[1;32m    751\u001b[0m \u001b[38;5;28;01mif\u001b[39;00m compression:\n\u001b[1;32m    752\u001b[0m     \u001b[38;5;28;01mif\u001b[39;00m compression \u001b[38;5;241m!=\u001b[39m \u001b[38;5;124m\"\u001b[39m\u001b[38;5;124mzstd\u001b[39m\u001b[38;5;124m\"\u001b[39m:\n\u001b[1;32m    753\u001b[0m         \u001b[38;5;66;03m# compression libraries do not like an explicit text-mode\u001b[39;00m\n",
      "File \u001b[0;32m~/.pyenv/versions/3.13.0/lib/python3.13/site-packages/pandas/io/common.py:616\u001b[0m, in \u001b[0;36mcheck_parent_directory\u001b[0;34m(path)\u001b[0m\n\u001b[1;32m    614\u001b[0m parent \u001b[38;5;241m=\u001b[39m Path(path)\u001b[38;5;241m.\u001b[39mparent\n\u001b[1;32m    615\u001b[0m \u001b[38;5;28;01mif\u001b[39;00m \u001b[38;5;129;01mnot\u001b[39;00m parent\u001b[38;5;241m.\u001b[39mis_dir():\n\u001b[0;32m--> 616\u001b[0m     \u001b[38;5;28;01mraise\u001b[39;00m \u001b[38;5;167;01mOSError\u001b[39;00m(\u001b[38;5;124mrf\u001b[39m\u001b[38;5;124m\"\u001b[39m\u001b[38;5;124mCannot save file into a non-existent directory: \u001b[39m\u001b[38;5;124m'\u001b[39m\u001b[38;5;132;01m{\u001b[39;00mparent\u001b[38;5;132;01m}\u001b[39;00m\u001b[38;5;124m'\u001b[39m\u001b[38;5;124m\"\u001b[39m)\n",
      "\u001b[0;31mOSError\u001b[0m: Cannot save file into a non-existent directory: 'capture_data'"
     ]
    }
   ],
   "source": [
    "# Define target directory to write and store capture-gamma cross-section CSV data.\n",
    "# Ignore `n+n1` and (for now) `n+U238`.\n",
    "import re\n",
    "\n",
    "TARGETDIR_CAPTURE=\"capture_data\"\n",
    "columns = ['energy [eV]', 'cross section [b]']\n",
    "\n",
    "for t in silicon: \n",
    "#for t in n_targets:\n",
    "    if t!='n1' and t!='U238':\n",
    "        RS = ENDF81.find(projectile='n', target=t).read()\n",
    "        cs_data = None\n",
    "        \n",
    "        # Do some regex on target label\n",
    "        letters_pattern = r'\\D+'\n",
    "        numbers_pattern = r'\\d+'\n",
    "        chem_symbol = str(re.findall(letters_pattern, t)[0])\n",
    "        target_mass = int(re.findall(numbers_pattern, t)[0])\n",
    "        residual_mass = target_mass+1\n",
    "        residual = str(chem_symbol)+str(residual_mass)\n",
    "        print(residual)\n",
    "        \n",
    "        for reaction in RS:\n",
    "            if str('{0} + photon [inclusive]'.format(residual)) in reaction.label:\n",
    "                try:\n",
    "                    #DM: debug\n",
    "                    print(reaction.label)\n",
    "                    #DM: end debug\n",
    "                    crossSection = reaction.crossSection.evaluated.toPointwise_withLinearXYs(accuracy=1e-3, lowerEps=1e-8)\n",
    "                    cs_data = crossSection\n",
    "                except:\n",
    "                    print(f\"Could not extract cross section for reaction '{reaction.label}'!\")\n",
    "                    \n",
    "        # Extract pointwise cross-section data from `cs_data` object into a new DataFrame:\n",
    "        try:\n",
    "            df_cs = pd.DataFrame(list(cs_data), columns=columns)\n",
    "            df_cs.to_csv(\"{0}/n-capture-{1}.csv\".format(TARGETDIR_CAPTURE,t), index=False)\n",
    "        except TypeError:\n",
    "            if cs_data is None:\n",
    "                print(\"Reaction suite for target {0}: No (n,g) reaction channel\".format(t))"
   ]
  },
  {
   "cell_type": "code",
   "execution_count": null,
   "id": "2eb9e0f1",
   "metadata": {},
   "outputs": [],
   "source": [
    "# Display the reaction suite for a specific nucleus, e.g., Si28\n",
    "RS = ENDF81.find(projectile='n', target='W186').read()\n",
    "print(RS.toString())"
   ]
  },
  {
   "cell_type": "code",
   "execution_count": null,
   "id": "0fce1413",
   "metadata": {},
   "outputs": [],
   "source": [
    "# Plot all of the reaction data in the RS\n",
    "#%matplotlib notebook\n",
    "for reaction in RS:\n",
    "    try:\n",
    "        crossSection = reaction.crossSection.evaluated.toPointwise_withLinearXYs(accuracy=1e-3, lowerEps=1e-8)\n",
    "        plt.loglog(*crossSection.copyDataToXsAndYs(), label=reaction.label)\n",
    "    except:\n",
    "        print(f\"Could not extract cross section for reaction '{reaction.label}'!\")\n",
    "\n",
    "plt.xlabel(f\"Incident energy ({RS.domainUnit})\")\n",
    "plt.ylabel(\"Cross section (b)\")\n",
    "plt.title(f\"n + '{RS.target}' reactions\")\n",
    "plt.legend()"
   ]
  },
  {
   "cell_type": "code",
   "execution_count": null,
   "id": "c1abf08d",
   "metadata": {},
   "outputs": [],
   "source": [
    "# Plot a particular reaction from the RS and store data in DataFrame\n",
    "# e.g., (n,g) i.e. '(A+1)Z + photon [inclusive]'\n",
    "#%matplotlib notebook\n",
    "cs = None\n",
    "for reaction in RS:\n",
    "    #if str('+ photon [inclusive]') in reaction.label:\n",
    "    if reaction.label == 'Re186 + photon [inclusive]':\n",
    "        try:\n",
    "            crossSection = reaction.crossSection.evaluated.toPointwise_withLinearXYs(accuracy=1e-3, lowerEps=1e-8)\n",
    "            plt.loglog(*crossSection.copyDataToXsAndYs(), label=reaction.label)\n",
    "            cs = crossSection\n",
    "        except:\n",
    "            print(f\"Could not extract cross section for reaction '{reaction.label}'!\")\n",
    "            \n",
    "plt.xlabel(f\"Incident energy ({RS.domainUnit})\")\n",
    "plt.ylabel(\"Cross section (b)\")\n",
    "plt.title(f\"n + '{RS.target}' reaction\")\n",
    "plt.legend()\n",
    "\n",
    "columns = ['energy [eV]', 'cross section [b]']\n",
    "df = pd.DataFrame(list(cs), columns=columns)\n",
    "df"
   ]
  },
  {
   "cell_type": "code",
   "execution_count": null,
   "id": "cf78acf9",
   "metadata": {},
   "outputs": [],
   "source": [
    "# There's a problem with processing `n + U238` data\n",
    "RS = ENDF81.find(projectile='n', target='U238').read()\n",
    "print(RS.toString())"
   ]
  },
  {
   "cell_type": "code",
   "execution_count": null,
   "id": "46364b61",
   "metadata": {},
   "outputs": [],
   "source": [
    "cs = None\n",
    "for reaction in RS:\n",
    "    #if str('+ photon [inclusive]') in reaction.label:\n",
    "    if reaction.label == 'U239 + photon [inclusive]':\n",
    "        try:\n",
    "            crossSection = reaction.crossSection.evaluated.toPointwise_withLinearXYs(accuracy=1e-3, lowerEps=1e-8)\n",
    "            cs = crossSection\n",
    "        except:\n",
    "            print(f\"Could not extract cross section for reaction '{reaction.label}'!\")\n",
    "#df = pd.DataFrame(list(cs), columns=columns)"
   ]
  },
  {
   "cell_type": "code",
   "execution_count": null,
   "id": "38293fe2",
   "metadata": {},
   "outputs": [],
   "source": []
  }
 ],
 "metadata": {
  "kernelspec": {
   "display_name": "Python 3 (ipykernel)",
   "language": "python",
   "name": "python3"
  },
  "language_info": {
   "codemirror_mode": {
    "name": "ipython",
    "version": 3
   },
   "file_extension": ".py",
   "mimetype": "text/x-python",
   "name": "python",
   "nbconvert_exporter": "python",
   "pygments_lexer": "ipython3",
   "version": "3.13.0"
  }
 },
 "nbformat": 4,
 "nbformat_minor": 5
}
