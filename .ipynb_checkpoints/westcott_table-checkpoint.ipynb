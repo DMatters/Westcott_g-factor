{
 "cells": [
  {
   "cell_type": "code",
   "execution_count": 1,
   "id": "4c962572",
   "metadata": {},
   "outputs": [],
   "source": [
    "import numpy as np\n",
    "import pandas as pd\n",
    "pd.set_option('display.max_rows', None)\n",
    "from scipy.integrate import quad, trapezoid, simpson\n",
    "import matplotlib.pyplot as plt\n",
    "import glob\n",
    "import re\n",
    "import csv\n",
    "#%matplotlib notebook"
   ]
  },
  {
   "cell_type": "code",
   "execution_count": 2,
   "id": "09aed77a",
   "metadata": {
    "scrolled": true
   },
   "outputs": [],
   "source": [
    "# Load neutron-capture cross-section data\n",
    "capture_path = \"/Users/davidmatters/westcott/n-capture-gnds/capture_data\"\n",
    "capture_list = [x for x in glob.glob(\"{0}/*.csv\".format(capture_path))]\n",
    "capture_dict = {}\n",
    "for c in capture_list:\n",
    "    c_file = c.split('capture_data/')[1]\n",
    "    target = c_file.split('n-capture-')[1].split('.csv')[0]\n",
    "    capture_dict.update({target: c_file})\n",
    "    \n",
    "#Sort dictionary by key\n",
    "capture_dict = dict(sorted(capture_dict.items()))\n",
    "#for k,v in capture_dict.items(): print(k,v)"
   ]
  },
  {
   "cell_type": "code",
   "execution_count": 3,
   "id": "4786cdcf",
   "metadata": {},
   "outputs": [],
   "source": [
    "def find_targets():\n",
    "    return [target for (target, value) in capture_dict.items()]\n",
    "\n",
    "def get_MT102(target):\n",
    "    df = None\n",
    "    for k,v in capture_dict.items():\n",
    "        if k==target:\n",
    "            df = pd.read_csv(\"{0}/{1}\".format(capture_path, v))\n",
    "    if df is None:\n",
    "        print(\"No capture-gamma cross section data for target nucleus: {0}\".format(target))\n",
    "        return\n",
    "    else:\n",
    "        return df\n",
    "\n",
    "def plot_MT102(df,target,energy_units='eV',cs_units='b',save=False):\n",
    "    \n",
    "    letters_pattern = r'\\D+'\n",
    "    numbers_pattern = r'\\d+'\n",
    "    chem_symbol = str(re.findall(letters_pattern, target)[0])\n",
    "    mass = int(re.findall(numbers_pattern, target)[0])\n",
    "    regex_label = r'$^{%i}$%s($n,\\gamma$)'%(mass, chem_symbol)\n",
    "    \n",
    "    energy=df['energy [eV]'].tolist()\n",
    "    cs=df['cross section [b]'].tolist()\n",
    "    \n",
    "    if energy_units == 'MeV': energy = [x/1e+06 for x in energy]\n",
    "    else: pass\n",
    "    if cs_units == 'mb': cs = [x*1e+03 for x in cs]\n",
    "    else: pass\n",
    "    \n",
    "    f, ax = plt.subplots(figsize=(8,5))\n",
    "    ax.plot(energy, cs, color='black', label=regex_label)\n",
    "    ax.legend(loc='best', fontsize=15)\n",
    "    ax.set_xlabel(r'$E$ [{0}]'.format(energy_units),size=15)\n",
    "    ax.set_ylabel(r'$\\sigma_{\\gamma}$ [%s]'%cs_units,size=15)\n",
    "    ax.grid(True)\n",
    "    ax.set_xscale('log')\n",
    "    ax.set_yscale('log')\n",
    "\n",
    "    plt.tight_layout()\n",
    "    plt.show()\n",
    "    if save==True:\n",
    "        plt.savefig(\"ng_cross_section_{0}.png\".format(target),dpi=f.dpi)\n",
    "    else:\n",
    "        pass\n",
    "    return"
   ]
  },
  {
   "cell_type": "code",
   "execution_count": 4,
   "id": "e7994636",
   "metadata": {},
   "outputs": [],
   "source": [
    "targs = find_targets()\n",
    "#print(targs)"
   ]
  },
  {
   "cell_type": "code",
   "execution_count": 5,
   "id": "6fd8111d",
   "metadata": {},
   "outputs": [],
   "source": [
    "target='Re187'"
   ]
  },
  {
   "cell_type": "code",
   "execution_count": 6,
   "id": "3c89c6a6",
   "metadata": {},
   "outputs": [],
   "source": [
    "df = get_MT102(target)"
   ]
  },
  {
   "cell_type": "code",
   "execution_count": 7,
   "id": "78231c6b",
   "metadata": {},
   "outputs": [],
   "source": [
    "#%matplotlib notebook\n",
    "#plot_MT102(df,target)\n",
    "#plot_MT102(df,target,energy_units='MeV',cs_units='mb',save=True)"
   ]
  },
  {
   "cell_type": "code",
   "execution_count": 8,
   "id": "67ff31fe-1996-4dc4-b5c5-407242d5a30e",
   "metadata": {},
   "outputs": [],
   "source": [
    "# Convert to numpy arrays for interpolation and integration\n",
    "sigma = df.to_numpy()\n",
    "sigma_x = sigma[:,0]\n",
    "sigma_y = sigma[:,1]\n",
    "\n",
    "# Plot to make sure it looks right\n",
    "#plt.loglog(sigma_x,sigma_y)\n",
    "#plt.show()"
   ]
  },
  {
   "cell_type": "code",
   "execution_count": 9,
   "id": "8031b85c-e999-42aa-b8a9-1ae27e3d0021",
   "metadata": {},
   "outputs": [
    {
     "data": {
      "text/plain": [
       "np.float64(0.988725572450092)"
      ]
     },
     "execution_count": 9,
     "metadata": {},
     "output_type": "execute_result"
    }
   ],
   "source": [
    "# Need to do this in velocity space: g_w = 2*v_T/(sqrt(pi)*sigma_0*v_0) * integral(sigma(v)*phi(v))dv\n",
    "# Convert the x axis to velocity\n",
    "v_0 = 2200 #m/s\n",
    "kB = 1.38066e-23 #J/K\n",
    "m_n = 1.00866501 *1.660566e-27 #neutron mass, kg\n",
    "def vel(E):  #input in eV\n",
    "    E_joules = E*1.602189e-19\n",
    "    return np.sqrt(2*E_joules/m_n)  #output in m/s\n",
    "\n",
    "#Get thermal capture cross section sigma_0\n",
    "def sigma0(x,y):\n",
    "    return np.interp(2200,vel(x),y)  #b\n",
    "\n",
    "#Integrate to evaluate g-factor\n",
    "# First try it on a Maxwellian spectrum\n",
    "def phi_maxwellian(T,vn):\n",
    "    phi = []\n",
    "    vt = np.sqrt(2*kB*T/m_n)\n",
    "    for v in vn:\n",
    "        phi.append(2 * np.exp(-v**2/vt**2) * v**3/vt**4)\n",
    "    return np.array(phi)\n",
    "\n",
    "def g_w(T,x,y):\n",
    "    sigma_v = y\n",
    "    n_v = phi_maxwellian(T,vel(x))\n",
    "    return 1/(sigma0(x,y) * v_0) * trapezoid(n_v * vel(x) * sigma_v,vel(x)) / trapezoid(n_v,vel(x))\n",
    "\n",
    "g_w(293,sigma_x,sigma_y)  #test with target defined above"
   ]
  },
  {
   "cell_type": "code",
   "execution_count": 10,
   "id": "10ee082d-d984-4c53-81ac-b5ce840de04b",
   "metadata": {},
   "outputs": [
    {
     "data": {
      "text/plain": [
       "np.float64(76.69407979312811)"
      ]
     },
     "execution_count": 10,
     "metadata": {},
     "output_type": "execute_result"
    }
   ],
   "source": [
    "sigma0(sigma_x,sigma_y)"
   ]
  },
  {
   "cell_type": "code",
   "execution_count": 11,
   "id": "12fbc733-8c00-4ab6-a493-c15783e53da5",
   "metadata": {},
   "outputs": [
    {
     "data": {
      "text/plain": [
       "np.float64(1.0078628711286224)"
      ]
     },
     "execution_count": 11,
     "metadata": {},
     "output_type": "execute_result"
    }
   ],
   "source": [
    "# Now do it with an arbitrary spectrum\n",
    "# Import BNC cold-neutron spectrum\n",
    "with open('bnc_cold_spectrum_2015.csv',mode='r', encoding='utf-8-sig') as file:\n",
    "    csvFile = csv.reader(file)\n",
    "    next(csvFile, None)  # Skip header line\n",
    "    vn_c_2015 = []\n",
    "    dndv_c_2015 = []\n",
    "    for lines in csvFile:\n",
    "        vn_c_2015.append(np.sqrt(2*float(lines[0])*1.602e-19/m_n))\n",
    "        dndv_c_2015.append(float(lines[1]))\n",
    "vn_cold = np.array(vn_c_2015)\n",
    "dndv_cold = np.array(dndv_c_2015)\n",
    "\n",
    "# Interpolate to define flux everywhere the cross section is defined, with zeros outside range to integrate properly\n",
    "dndv_interp_cold = np.interp(vel(sigma_x),vn_cold,dndv_cold,left=0,right=0)\n",
    "\n",
    "# Plot to make sure it looks right (have to set left & right values to 1e-10 in the above interpolation or loglog plot won't work)\n",
    "#plt.loglog(vel(sigma_x),dndv_interp)\n",
    "#plt.show()\n",
    "\n",
    "def g_w_arb(v, n_v, sigma_v, sigma_0):\n",
    "    return 1/(sigma_0 * v_0) * trapezoid(n_v * v * sigma_v,v) / trapezoid(n_v,v)\n",
    "\n",
    "g_w_arb(vel(sigma_x), dndv_interp_cold, sigma_y, sigma0(sigma_x,sigma_y))  #test with target defined above"
   ]
  },
  {
   "cell_type": "code",
   "execution_count": 12,
   "id": "e063e1d6-a7bb-4b5c-a5eb-40fd789e80de",
   "metadata": {},
   "outputs": [],
   "source": [
    "# Calculate g factor given a target isotope and Maxwellian-spectrum temperature\n",
    "def g_w_Maxwellian(target, T):\n",
    "    df = get_MT102(target)\n",
    "    sigma = df.to_numpy()\n",
    "    sigma_x = sigma[:,0]\n",
    "    sigma_y = sigma[:,1]\n",
    "    return g_w(T,sigma_x,sigma_y)"
   ]
  },
  {
   "cell_type": "code",
   "execution_count": 13,
   "id": "6b6880ff-238e-4990-abb0-ef109ab33b31",
   "metadata": {},
   "outputs": [
    {
     "data": {
      "text/plain": [
       "np.float64(0.988725572450092)"
      ]
     },
     "execution_count": 13,
     "metadata": {},
     "output_type": "execute_result"
    }
   ],
   "source": [
    "# Test:\n",
    "g_w_Maxwellian('Re187',293)"
   ]
  },
  {
   "cell_type": "code",
   "execution_count": 14,
   "id": "dc751c92-b7d4-4a95-9cea-776e4280bb7b",
   "metadata": {},
   "outputs": [
    {
     "data": {
      "text/plain": [
       "np.float64(0.8458284415907541)"
      ]
     },
     "execution_count": 14,
     "metadata": {},
     "output_type": "execute_result"
    }
   ],
   "source": [
    "# Calculate g factor given a target isotope and BNC cold-neutron (2015) spectrum\n",
    "def g_w_BNC_cold(target):\n",
    "    df = get_MT102(target)\n",
    "    sigma = df.to_numpy()\n",
    "    sigma_x = sigma[:,0]\n",
    "    sigma_y = sigma[:,1]\n",
    "    dndv_interp_cold = np.interp(vel(sigma_x),vn_cold,dndv_cold,left=0,right=0)\n",
    "    return g_w_arb(vel(sigma_x), dndv_interp_cold, sigma_y, sigma0(sigma_x,sigma_y))\n",
    "\n",
    "# Test: returns 0.8458 for 157Gd, reasonably close to the value of 0.8707 I get with DeCE (DM arb spectrum w/BNC_cold_2015 spectrum)\n",
    "g_w_BNC_cold('Gd157')"
   ]
  },
  {
   "cell_type": "code",
   "execution_count": 15,
   "id": "cd2e9e87-94a5-4504-b5fc-7c11f493eb1d",
   "metadata": {},
   "outputs": [
    {
     "data": {
      "text/plain": [
       "np.float64(0.8804778562186443)"
      ]
     },
     "execution_count": 15,
     "metadata": {},
     "output_type": "execute_result"
    }
   ],
   "source": [
    "# Calculate g factor given a target isotope and BNC thermal-neutron (2002) spectrum\n",
    "# Import spectrum\n",
    "with open('bnc_thermal_spectrum_2002.csv',mode='r', encoding='utf-8-sig') as file:\n",
    "    csvFile = csv.reader(file)\n",
    "    next(csvFile, None)  # Skip header line\n",
    "    vn_t_2002 = []\n",
    "    dndv_t_2002 = []\n",
    "    for lines in csvFile:\n",
    "        vn_t_2002.append(np.sqrt(2*float(lines[0])*1.602e-19/m_n))\n",
    "        dndv_t_2002.append(float(lines[1]))\n",
    "vn_thermal = np.array(vn_t_2002)\n",
    "dndv_thermal = np.array(dndv_t_2002)\n",
    "\n",
    "# Interpolate to define flux everywhere the cross section is defined, with zeros outside range to integrate properly\n",
    "dndv_interp_thermal = np.interp(vel(sigma_x),vn_thermal,dndv_thermal,left=0,right=0)\n",
    "\n",
    "def g_w_BNC_thermal(target):\n",
    "    df = get_MT102(target)\n",
    "    sigma = df.to_numpy()\n",
    "    sigma_x = sigma[:,0]\n",
    "    sigma_y = sigma[:,1]\n",
    "    dndv_interp_thermal = np.interp(vel(sigma_x),vn_thermal,dndv_thermal,left=0,right=0)\n",
    "    return g_w_arb(vel(sigma_x), dndv_interp_thermal, sigma_y, sigma0(sigma_x,sigma_y))\n",
    "\n",
    "# Test\n",
    "g_w_BNC_thermal('Gd157')"
   ]
  },
  {
   "cell_type": "code",
   "execution_count": 16,
   "id": "1b080dcb-bfad-43fb-9054-a17282ed1960",
   "metadata": {},
   "outputs": [],
   "source": [
    "# Isotopes for table, from various references\n",
    "isotopes_vanSlujis = ['S36', 'Ag107', 'Ag109', 'Rh103', 'Nb93', 'In113', 'In115',\\\n",
    "                      'Sb121', 'Cs133', 'Eu151', 'Eu153', 'Gd152', 'Sm152', 'Tb159',\\\n",
    "                      'Lu175', 'Lu176', 'Hf174', 'Hf178', 'Hf179', 'Ta181', 'Re185',\\\n",
    "                      'Re187', 'Ir191', 'Ir193', 'Os190', 'Hg196', 'Au197', 'Yb168',\\\n",
    "                      'Tm169', 'Dy164', 'W186', 'Hg204', 'Th232', 'U238']\n",
    "isotopes_Holden = ['Rh103', 'Cd113', 'In115', 'Xe135', 'Pm148', 'Sm149', 'Sm151',\\\n",
    "                   'Eu151', 'Eu152', 'Eu153', 'Eu154', 'Eu155', 'Gd155', 'Gd157',\\\n",
    "                   'Dy164', 'Lu175', 'Lu176', 'Hf177', 'Ta182', 'Re185', 'Re187',\\\n",
    "                   'Au197', 'Pa231', 'Pa233', 'U235', 'U238']\n",
    "isotopes_Molnar = ['Kr83', 'Rh103', 'Cd113', 'In113', 'In115', 'Te123', 'Sm149', \\\n",
    "                   'Eu151', 'Eu153', 'Gd155', 'Gd157', 'Dy164', 'Er167', 'Lu175', \\\n",
    "                   'Lu176', 'Hf174', 'Hf177', 'Re187', 'Ir193', 'Au197']\n",
    "isotopes_Pritychenko = ['Cd113', 'Xe135', 'Sm149', 'Eu151', 'Lu176', 'Ta182', 'Pu239', 'Am243']\n",
    "isotopes_IAEA = ['Si30', 'S36', 'Ar36', 'Ar38', 'Kr83', 'Sr87', 'Rh103', 'Pd105',\\\n",
    "                 'Ag109', 'Cd111', 'Cd113', 'In113', 'In115', 'Sb121', 'Te123',\\\n",
    "                 'Xe124', 'Ba132', 'Cs133', 'Ce138', 'Nd143', 'Sm149', 'Sm152',\\\n",
    "                 'Eu151', 'Eu153', 'Gd155', 'Gd157', 'Dy156', 'Dy158', 'Dy160',\\\n",
    "                 'Dy161', 'Dy162', 'Dy163', 'Dy164', 'Er167', 'Tm169', 'Yb168',\\\n",
    "                 'Hf174', 'Hf176', 'Lu175', 'Lu176', 'Hf177', 'Hf178', 'Hf179',\\\n",
    "                 'Hf180', 'Ta180', 'Ta181', 'W180', 'W182', 'Re185', 'Re187',\\\n",
    "                 'Os186', 'Os187', 'Ir191', 'Ir193', 'Au197', 'Hg196', 'Hg199',\\\n",
    "                 'Th232', 'U234', 'U235']\n",
    "isotopes_IAEA_resonance_table = ['Si30', 'S36', 'Ar36', 'Ar38', 'Kr83', 'Sr87',\\\n",
    "                                 'Rh103', 'Pd105','Ag107', 'Ag109', 'Nb93',\\\n",
    "                                 'Cd111', 'Cd113', 'In113', 'In115','Sb121',\\\n",
    "                                 'Te123', 'Xe124', 'Ba132', 'Cs133', 'Ce138',\\\n",
    "                                 'Nd143','Pm148', 'Sm149', 'Sm151', 'Sm152',\\\n",
    "                                 'Eu151', 'Eu152', 'Eu153','Eu154', 'Eu155',\\\n",
    "                                 'Gd152', 'Gd155', 'Gd157', 'Tb159', 'Dy156',\\\n",
    "                                 'Dy158', 'Dy160', 'Dy161', 'Dy162', 'Dy163',\\\n",
    "                                 'Dy164', 'Er167','Yb168', 'Tm169', 'Lu175',\\\n",
    "                                 'Lu176', 'Hf174', 'Hf176', 'Hf177','Hf178',\\\n",
    "                                 'Hf179', 'Hf180', 'Ta180', 'Ta181', 'Ta182',\\\n",
    "                                 'W180','W182', 'Re185', 'Re187', 'Os186',\\\n",
    "                                 'Os187', 'Ir191', 'Ir192','Ir193', 'Os190',\\\n",
    "                                 'Hg196', 'Hg199', 'Au197', 'Hg204','Th229',\\\n",
    "                                 'Th232', 'U234', 'U235', 'U238', 'Pa231',\\\n",
    "                                 'Pa233', 'Np237','Pu239', 'Pu240','Pu241',\\\n",
    "                                 'Am241', 'Am242', 'Cf249', 'Cf252','Bk249']\n",
    "# Combination of all the above, minus U238 (issue with cross section)\n",
    "isotopes_combined = ['Si30', 'S36', 'Ar36', 'Ar38', 'Kr83', 'Sr87', 'Rh103',\\\n",
    "                     'Pd105','Ag107', 'Ag109', 'Nb93', 'Cd111', 'Cd113',\\\n",
    "                     'In113', 'In115','Sb121', 'Te123', 'Xe124', 'Xe135', 'Ba132',\\\n",
    "                     'Cs133', 'Ce138', 'Nd143','Pm148', 'Sm149', 'Sm151',\\\n",
    "                     'Sm152', 'Eu151', 'Eu152', 'Eu153','Eu154', 'Eu155',\\\n",
    "                     'Gd152', 'Gd155', 'Gd157', 'Tb159', 'Dy156','Dy158',\\\n",
    "                     'Dy160', 'Dy161', 'Dy162', 'Dy163', 'Dy164', 'Er167',\\\n",
    "                     'Yb168', 'Tm169', 'Lu175', 'Lu176', 'Hf174', 'Hf176',\\\n",
    "                     'Hf177','Hf178', 'Hf179', 'Hf180', 'Ta180', 'Ta181',\\\n",
    "                     'Ta182', 'W180','W182', 'Re185', 'Re187', 'Os186',\\\n",
    "                     'Os187', 'Ir191', 'Ir192','Ir193', 'Os190', 'Hg196',\\\n",
    "                     'Hg199', 'Au197', 'Hg204', 'Th229','Th232', 'U234',\\\n",
    "                     'U235', 'Pa231', 'Pa233', 'Np237','Pu239', 'Pu240',\\\n",
    "                     'Pu241', 'Am241', 'Am242', 'Am243', 'Cf249', 'Cf252','Bk249']"
   ]
  },
  {
   "cell_type": "code",
   "execution_count": 17,
   "id": "17fdb654-c68b-4961-83ec-8f421de7742a",
   "metadata": {},
   "outputs": [],
   "source": [
    "temperatures = [20, 40, 60, 80, 100, 120, 140, 160, 180, 200, 220, 240, 260,\\\n",
    "                280, 293, 300, 320, 340, 360, 380, 400, 420, 440, 460, 480,\\\n",
    "                500, 520, 540, 560, 580, 600]"
   ]
  },
  {
   "cell_type": "code",
   "execution_count": 18,
   "id": "8ec6367c-b79a-4ad6-a61a-66fa6b0a29d7",
   "metadata": {},
   "outputs": [
    {
     "name": "stdout",
     "output_type": "stream",
     "text": [
      "\\begin{table*}[!t]\n",
      "\\centering{}\\caption{Maxwellian-spectrum Westcott $g$ factors at various temperatures $T$ for non-$1/v$ nuclei listed in References \\citep{IAEA, Molnar, vanSluijs15, Holden99, Pritychenko25} in Table \\ref{Table:ResonanceParams}, calculated using resonance parameters from ENDF/B-VIII.1 \\citep{Brown18,Nobre24}. \\protect\\label{Table:Maxwellian_g-factors}}\n"
     ]
    }
   ],
   "source": [
    "# Generate tables of Maxwellian data, formatting in LaTeX\n",
    "def extract_element(isotope):\n",
    "    letters = [char for char in isotope if char.isalpha()]\n",
    "    return ''.join(letters)\n",
    "\n",
    "def extract_mass(isotope):\n",
    "    numbers = [char for char in isotope if char.isdigit()]\n",
    "    return ''.join(numbers)\n",
    "\n",
    "def format_isotope_latex(isotope):\n",
    "    element = extract_element(isotope)\n",
    "    mass_number = extract_mass(isotope)\n",
    "    latex_format = \"$^{\" + mass_number + \"}$\" + element\n",
    "    return latex_format\n",
    "\n",
    "def print_latex_table(headers, temperatures):\n",
    "    # Start the LaTeX table\n",
    "    print(\"\\\\begin{tabular}{|c|c|\" + \"c|\" * (len(headers) - 1) + \"}\")\n",
    "    print(\"\\\\hline\")\n",
    "    headers_latex = []\n",
    "    for i in range(len(headers)):\n",
    "        headers_latex.append(format_isotope_latex(headers[i])) \n",
    "    header_row = \" & \".join(headers_latex)\n",
    "    print(\"$T~(K)$ & \" + header_row + \"\\\\\\\\\")\n",
    "    print(\"\\\\hline\")\n",
    "\n",
    "    # Print the table rows\n",
    "    for T in temperatures:\n",
    "        row = f\"{T}\"\n",
    "        for isotope in headers:\n",
    "            value = g_w_Maxwellian(isotope, T)\n",
    "            row += f\" & {value:.3f}\"\n",
    "        print(row + \"\\\\\\\\\")\n",
    "        print(\"\\\\hline\")\n",
    "\n",
    "    # End the LaTeX table\n",
    "    print(\"\\\\end{tabular}\")\n",
    "    print(\"\\\\end{table*}\")\n",
    "    print(\"\\\\clearpage\")\n",
    "    print(\"\\\\begin{table*}[!t]\")\n",
    "\n",
    "def create_tables(isotopes_list, num_tables=1):\n",
    "    # Define the headers and data\n",
    "    headers = isotopes_list\n",
    "\n",
    "    # Split the headers into parts\n",
    "    headers_per_table = len(headers) // num_tables\n",
    "    remaining_headers = len(headers) % num_tables\n",
    "\n",
    "    start_index = 0\n",
    "    for i in range(num_tables):\n",
    "        end_index = start_index + headers_per_table + (1 if i < remaining_headers else 0)\n",
    "        table_headers = headers[start_index:end_index]\n",
    "        print_latex_table(table_headers, temperatures)\n",
    "        start_index = end_index\n",
    "\n",
    "# Generate the LaTeX table for copy-paste into manuscript\n",
    "print(\"\\\\begin{table*}[!t]\")\n",
    "print(\"\\\\centering{}\\\\caption{Maxwellian-spectrum Westcott $g$ factors at various temperatures $T$ for non-$1/v$ nuclei listed in References \\\\citep{IAEA, Molnar, vanSluijs15, Holden99, Pritychenko25} in Table \\\\ref{Table:ResonanceParams}, calculated using resonance parameters from ENDF/B-VIII.1 \\\\citep{Brown18,Nobre24}. \\\\protect\\\\label{Table:Maxwellian_g-factors}}\")\n",
    "\n",
    "#create_tables(isotopes_combined, 7)\n",
    "\n",
    "\n"
   ]
  },
  {
   "cell_type": "code",
   "execution_count": 19,
   "id": "8824dfc7-210b-46f3-ae9d-f90ab73c7d96",
   "metadata": {},
   "outputs": [
    {
     "name": "stdout",
     "output_type": "stream",
     "text": [
      "Westcott g factor for Si30, assuming BNC cold-neutron spectrum (2015): g_w = 1.000\n",
      "Westcott g factor for S36, assuming BNC cold-neutron spectrum (2015): g_w = 0.869\n",
      "Westcott g factor for Ar36, assuming BNC cold-neutron spectrum (2015): g_w = 1.116\n",
      "Westcott g factor for Ar38, assuming BNC cold-neutron spectrum (2015): g_w = 1.248\n",
      "Westcott g factor for Kr83, assuming BNC cold-neutron spectrum (2015): g_w = 1.003\n",
      "Westcott g factor for Sr87, assuming BNC cold-neutron spectrum (2015): g_w = 0.992\n",
      "Westcott g factor for Rh103, assuming BNC cold-neutron spectrum (2015): g_w = 0.973\n",
      "Westcott g factor for Pd105, assuming BNC cold-neutron spectrum (2015): g_w = 1.001\n",
      "Westcott g factor for Ag107, assuming BNC cold-neutron spectrum (2015): g_w = 1.002\n",
      "Westcott g factor for Ag109, assuming BNC cold-neutron spectrum (2015): g_w = 0.994\n",
      "Westcott g factor for Nb93, assuming BNC cold-neutron spectrum (2015): g_w = 1.000\n",
      "Westcott g factor for Cd111, assuming BNC cold-neutron spectrum (2015): g_w = 1.001\n",
      "Westcott g factor for Cd113, assuming BNC cold-neutron spectrum (2015): g_w = 0.836\n",
      "Westcott g factor for In113, assuming BNC cold-neutron spectrum (2015): g_w = 0.985\n",
      "Westcott g factor for In115, assuming BNC cold-neutron spectrum (2015): g_w = 0.977\n",
      "Westcott g factor for Sb121, assuming BNC cold-neutron spectrum (2015): g_w = 0.996\n",
      "Westcott g factor for Te123, assuming BNC cold-neutron spectrum (2015): g_w = 0.986\n",
      "Westcott g factor for Xe124, assuming BNC cold-neutron spectrum (2015): g_w = 0.995\n",
      "Westcott g factor for Xe135, assuming BNC cold-neutron spectrum (2015): g_w = 0.762\n",
      "Westcott g factor for Ba132, assuming BNC cold-neutron spectrum (2015): g_w = 1.000\n",
      "Westcott g factor for Cs133, assuming BNC cold-neutron spectrum (2015): g_w = 0.997\n",
      "Westcott g factor for Ce138, assuming BNC cold-neutron spectrum (2015): g_w = 1.002\n",
      "Westcott g factor for Nd143, assuming BNC cold-neutron spectrum (2015): g_w = 1.005\n",
      "Westcott g factor for Pm148, assuming BNC cold-neutron spectrum (2015): g_w = 1.000\n",
      "Westcott g factor for Sm149, assuming BNC cold-neutron spectrum (2015): g_w = 0.721\n",
      "Westcott g factor for Sm151, assuming BNC cold-neutron spectrum (2015): g_w = 1.254\n",
      "Westcott g factor for Sm152, assuming BNC cold-neutron spectrum (2015): g_w = 0.996\n",
      "Westcott g factor for Eu151, assuming BNC cold-neutron spectrum (2015): g_w = 1.296\n",
      "Westcott g factor for Eu152, assuming BNC cold-neutron spectrum (2015): g_w = 1.220\n",
      "Westcott g factor for Eu153, assuming BNC cold-neutron spectrum (2015): g_w = 1.023\n",
      "Westcott g factor for Eu154, assuming BNC cold-neutron spectrum (2015): g_w = 0.859\n",
      "Westcott g factor for Eu155, assuming BNC cold-neutron spectrum (2015): g_w = 0.990\n",
      "Westcott g factor for Gd152, assuming BNC cold-neutron spectrum (2015): g_w = 1.005\n",
      "Westcott g factor for Gd155, assuming BNC cold-neutron spectrum (2015): g_w = 0.881\n",
      "Westcott g factor for Gd157, assuming BNC cold-neutron spectrum (2015): g_w = 0.846\n",
      "Westcott g factor for Tb159, assuming BNC cold-neutron spectrum (2015): g_w = 0.998\n",
      "Westcott g factor for Dy156, assuming BNC cold-neutron spectrum (2015): g_w = 0.989\n",
      "Westcott g factor for Dy158, assuming BNC cold-neutron spectrum (2015): g_w = 1.016\n",
      "Westcott g factor for Dy160, assuming BNC cold-neutron spectrum (2015): g_w = 0.992\n",
      "Westcott g factor for Dy161, assuming BNC cold-neutron spectrum (2015): g_w = 1.012\n",
      "Westcott g factor for Dy162, assuming BNC cold-neutron spectrum (2015): g_w = 0.994\n",
      "Westcott g factor for Dy163, assuming BNC cold-neutron spectrum (2015): g_w = 0.986\n",
      "Westcott g factor for Dy164, assuming BNC cold-neutron spectrum (2015): g_w = 1.018\n",
      "Westcott g factor for Er167, assuming BNC cold-neutron spectrum (2015): g_w = 0.938\n",
      "Westcott g factor for Yb168, assuming BNC cold-neutron spectrum (2015): g_w = 0.944\n",
      "Westcott g factor for Tm169, assuming BNC cold-neutron spectrum (2015): g_w = 0.994\n",
      "Westcott g factor for Lu175, assuming BNC cold-neutron spectrum (2015): g_w = 0.997\n",
      "Westcott g factor for Lu176, assuming BNC cold-neutron spectrum (2015): g_w = 0.789\n",
      "Westcott g factor for Hf174, assuming BNC cold-neutron spectrum (2015): g_w = 1.034\n",
      "Westcott g factor for Hf176, assuming BNC cold-neutron spectrum (2015): g_w = 0.997\n",
      "Westcott g factor for Hf177, assuming BNC cold-neutron spectrum (2015): g_w = 0.977\n",
      "Westcott g factor for Hf178, assuming BNC cold-neutron spectrum (2015): g_w = 0.996\n",
      "Westcott g factor for Hf179, assuming BNC cold-neutron spectrum (2015): g_w = 1.004\n",
      "Westcott g factor for Hf180, assuming BNC cold-neutron spectrum (2015): g_w = 1.000\n",
      "Westcott g factor for Ta180, assuming BNC cold-neutron spectrum (2015): g_w = 0.773\n",
      "Westcott g factor for Ta181, assuming BNC cold-neutron spectrum (2015): g_w = 0.996\n",
      "Westcott g factor for Ta182, assuming BNC cold-neutron spectrum (2015): g_w = 0.796\n",
      "Westcott g factor for W180, assuming BNC cold-neutron spectrum (2015): g_w = 1.004\n",
      "Westcott g factor for W182, assuming BNC cold-neutron spectrum (2015): g_w = 0.996\n",
      "Westcott g factor for Re185, assuming BNC cold-neutron spectrum (2015): g_w = 0.994\n",
      "Westcott g factor for Re187, assuming BNC cold-neutron spectrum (2015): g_w = 1.008\n",
      "Westcott g factor for Os186, assuming BNC cold-neutron spectrum (2015): g_w = 1.030\n",
      "Westcott g factor for Os187, assuming BNC cold-neutron spectrum (2015): g_w = 1.024\n",
      "Westcott g factor for Ir191, assuming BNC cold-neutron spectrum (2015): g_w = 1.014\n",
      "Westcott g factor for Ir192, assuming BNC cold-neutron spectrum (2015): g_w = 0.895\n",
      "Westcott g factor for Ir193, assuming BNC cold-neutron spectrum (2015): g_w = 0.979\n",
      "Westcott g factor for Os190, assuming BNC cold-neutron spectrum (2015): g_w = 1.017\n",
      "Westcott g factor for Hg196, assuming BNC cold-neutron spectrum (2015): g_w = 1.018\n",
      "Westcott g factor for Hg199, assuming BNC cold-neutron spectrum (2015): g_w = 1.016\n",
      "Westcott g factor for Au197, assuming BNC cold-neutron spectrum (2015): g_w = 0.994\n",
      "Westcott g factor for Hg204, assuming BNC cold-neutron spectrum (2015): g_w = 0.582\n",
      "Westcott g factor for Th229, assuming BNC cold-neutron spectrum (2015): g_w = 0.966\n",
      "Westcott g factor for Th232, assuming BNC cold-neutron spectrum (2015): g_w = 1.008\n",
      "Westcott g factor for U234, assuming BNC cold-neutron spectrum (2015): g_w = 1.014\n",
      "Westcott g factor for U235, assuming BNC cold-neutron spectrum (2015): g_w = 1.081\n",
      "Westcott g factor for Pa231, assuming BNC cold-neutron spectrum (2015): g_w = 1.150\n",
      "Westcott g factor for Pa233, assuming BNC cold-neutron spectrum (2015): g_w = 1.082\n",
      "Westcott g factor for Np237, assuming BNC cold-neutron spectrum (2015): g_w = 1.034\n",
      "Westcott g factor for Pu239, assuming BNC cold-neutron spectrum (2015): g_w = 0.961\n",
      "Westcott g factor for Pu240, assuming BNC cold-neutron spectrum (2015): g_w = 0.968\n",
      "Westcott g factor for Pu241, assuming BNC cold-neutron spectrum (2015): g_w = 1.141\n",
      "Westcott g factor for Am241, assuming BNC cold-neutron spectrum (2015): g_w = 1.089\n",
      "Westcott g factor for Am242, assuming BNC cold-neutron spectrum (2015): g_w = 0.949\n",
      "Westcott g factor for Am243, assuming BNC cold-neutron spectrum (2015): g_w = 0.985\n",
      "Westcott g factor for Cf249, assuming BNC cold-neutron spectrum (2015): g_w = 1.095\n",
      "Westcott g factor for Cf252, assuming BNC cold-neutron spectrum (2015): g_w = 1.007\n",
      "Westcott g factor for Bk249, assuming BNC cold-neutron spectrum (2015): g_w = 0.891\n"
     ]
    }
   ],
   "source": [
    "# Generate tables of BNC cold-neutron data\n",
    "for isotope in isotopes_combined:\n",
    "    print(\"Westcott g factor for {}, assuming BNC cold-neutron spectrum (2015): g_w = {:.3f}\".format(isotope, g_w_BNC_cold(isotope)))"
   ]
  },
  {
   "cell_type": "code",
   "execution_count": 20,
   "id": "d9ca29ca-95ed-47fa-a4a2-3761bdbd30de",
   "metadata": {},
   "outputs": [
    {
     "name": "stdout",
     "output_type": "stream",
     "text": [
      "\\begin{tabular}{|c|c|c|c|c|c|c|c|c|c|}\n",
      "\\hline\n",
      "$T~(K)$ & $^{144}$Sm & $^{146}$Sm & $^{147}$Sm & $^{148}$Sm & $^{149}$Sm & $^{150}$Sm & $^{151}$Sm & $^{152}$Sm & $^{154}$Sm\\\\\n",
      "\\hline\n",
      "20 & 1.000 & 1.000 & 0.999 & 1.001 & 0.639 & 1.004 & 1.332 & 0.994 & 1.001\\\\\n",
      "\\hline\n",
      "40 & 1.000 & 1.000 & 0.999 & 1.001 & 0.685 & 1.003 & 1.273 & 0.995 & 1.001\\\\\n",
      "\\hline\n",
      "60 & 1.000 & 1.000 & 1.000 & 1.001 & 0.741 & 1.003 & 1.219 & 0.996 & 1.001\\\\\n",
      "\\hline\n",
      "80 & 1.000 & 1.000 & 1.000 & 1.001 & 0.808 & 1.002 & 1.169 & 0.997 & 1.000\\\\\n",
      "\\hline\n",
      "100 & 1.000 & 1.000 & 1.000 & 1.000 & 0.892 & 1.001 & 1.124 & 0.998 & 1.000\\\\\n",
      "\\hline\n",
      "120 & 1.000 & 1.000 & 1.000 & 1.000 & 0.995 & 1.001 & 1.082 & 0.999 & 1.000\\\\\n",
      "\\hline\n",
      "140 & 1.000 & 1.000 & 1.000 & 1.000 & 1.115 & 1.000 & 1.043 & 0.999 & 1.000\\\\\n",
      "\\hline\n",
      "160 & 1.000 & 1.000 & 1.000 & 1.000 & 1.249 & 0.999 & 1.007 & 1.000 & 1.000\\\\\n",
      "\\hline\n",
      "180 & 1.000 & 1.000 & 1.000 & 0.999 & 1.392 & 0.999 & 0.973 & 1.001 & 1.000\\\\\n",
      "\\hline\n",
      "200 & 1.000 & 1.000 & 1.000 & 0.999 & 1.538 & 0.998 & 0.942 & 1.002 & 1.000\\\\\n",
      "\\hline\n",
      "220 & 0.999 & 1.000 & 1.000 & 0.999 & 1.682 & 0.998 & 0.912 & 1.003 & 1.000\\\\\n",
      "\\hline\n",
      "240 & 0.999 & 1.000 & 1.000 & 0.998 & 1.820 & 0.997 & 0.885 & 1.004 & 0.999\\\\\n",
      "\\hline\n",
      "260 & 0.999 & 1.000 & 1.000 & 0.998 & 1.948 & 0.996 & 0.859 & 1.005 & 0.999\\\\\n",
      "\\hline\n",
      "280 & 0.999 & 1.000 & 1.000 & 0.998 & 2.064 & 0.996 & 0.834 & 1.005 & 0.999\\\\\n",
      "\\hline\n",
      "293 & 0.999 & 1.000 & 1.000 & 0.998 & 2.133 & 0.995 & 0.819 & 1.006 & 0.999\\\\\n",
      "\\hline\n",
      "300 & 0.999 & 1.000 & 1.000 & 0.998 & 2.168 & 0.995 & 0.811 & 1.006 & 0.999\\\\\n",
      "\\hline\n",
      "320 & 0.999 & 1.000 & 1.001 & 0.997 & 2.260 & 0.995 & 0.789 & 1.007 & 0.999\\\\\n",
      "\\hline\n",
      "340 & 0.999 & 1.000 & 1.001 & 0.997 & 2.338 & 0.994 & 0.768 & 1.008 & 0.999\\\\\n",
      "\\hline\n",
      "360 & 0.999 & 1.000 & 1.001 & 0.997 & 2.404 & 0.993 & 0.748 & 1.009 & 0.999\\\\\n",
      "\\hline\n",
      "380 & 0.999 & 1.000 & 1.001 & 0.997 & 2.459 & 0.993 & 0.729 & 1.010 & 0.999\\\\\n",
      "\\hline\n",
      "400 & 0.999 & 1.000 & 1.001 & 0.996 & 2.503 & 0.992 & 0.712 & 1.011 & 0.999\\\\\n",
      "\\hline\n",
      "420 & 0.999 & 1.000 & 1.001 & 0.996 & 2.537 & 0.992 & 0.695 & 1.011 & 0.998\\\\\n",
      "\\hline\n",
      "440 & 0.999 & 1.000 & 1.001 & 0.996 & 2.562 & 0.991 & 0.678 & 1.012 & 0.998\\\\\n",
      "\\hline\n",
      "460 & 0.999 & 1.000 & 1.001 & 0.996 & 2.579 & 0.991 & 0.663 & 1.013 & 0.998\\\\\n",
      "\\hline\n",
      "480 & 0.999 & 1.000 & 1.001 & 0.995 & 2.589 & 0.990 & 0.648 & 1.014 & 0.998\\\\\n",
      "\\hline\n",
      "500 & 0.999 & 1.000 & 1.001 & 0.995 & 2.593 & 0.989 & 0.634 & 1.015 & 0.998\\\\\n",
      "\\hline\n",
      "520 & 0.998 & 1.000 & 1.002 & 0.995 & 2.591 & 0.989 & 0.620 & 1.016 & 0.998\\\\\n",
      "\\hline\n",
      "540 & 0.998 & 1.000 & 1.002 & 0.995 & 2.585 & 0.988 & 0.607 & 1.017 & 0.998\\\\\n",
      "\\hline\n",
      "560 & 0.998 & 1.000 & 1.002 & 0.994 & 2.574 & 0.988 & 0.595 & 1.018 & 0.998\\\\\n",
      "\\hline\n",
      "580 & 0.998 & 1.000 & 1.002 & 0.994 & 2.559 & 0.987 & 0.583 & 1.019 & 0.997\\\\\n",
      "\\hline\n",
      "600 & 0.998 & 1.000 & 1.002 & 0.994 & 2.541 & 0.986 & 0.572 & 1.019 & 0.997\\\\\n",
      "\\hline\n",
      "\\end{tabular}\n",
      "\\end{table*}\n",
      "\\clearpage\n",
      "\\begin{table*}[!t]\n"
     ]
    }
   ],
   "source": [
    "# Look at stable and long-lived isotopes of Sm (144Sm, 146Sm, 147Sm, 148Sm, 149Sm, 150Sm, 151Sm, 152Sm, 154Sm)\n",
    "isotopes_Samarium = ['Sm144', 'Sm146', 'Sm147', 'Sm148', 'Sm149', 'Sm150', 'Sm151', 'Sm152', 'Sm154']\n",
    "create_tables(isotopes_Samarium, 1)"
   ]
  },
  {
   "cell_type": "code",
   "execution_count": null,
   "id": "8bfe685d-505b-4975-abf1-8c365d8fc8e8",
   "metadata": {},
   "outputs": [],
   "source": []
  },
  {
   "cell_type": "code",
   "execution_count": 21,
   "id": "9a10e604-3d26-4e2c-be72-92c33bf84644",
   "metadata": {},
   "outputs": [
    {
     "name": "stdout",
     "output_type": "stream",
     "text": [
      "\\begin{table*}[!t]\n",
      "\\centering{}\\caption{Comparison of Westcott $g$ factors for select non-$1/v$ nuclei using Maxwellian neutron energy distributions and spectra from the Budapest Research Reactor. \\protect\\label{Table:g-factor_comparison}}\n",
      "\\begin{tabular}{|c|c|c|c|c|}\n",
      "\\hline\n",
      "Isotope & g_w(T=140~K)$ & $g_w$, BRR cold spectrum (2015) & $g_w(T=293~K)$ & $g_w$, BRR thermal spectrum (2002) \\\\\n",
      "\\hline\n",
      "$^{36}$S & 0.975 & 0.869 & 1.054 & 0.915\\\\\n",
      "\\hline\n",
      "$^{83}$Kr & 1.000 & 1.003 & 0.995 & 1.000\\\\\n",
      "\\hline\n",
      "$^{115}$In & 0.999 & 0.977 & 1.038 & 1.054\\\\\n",
      "\\hline\n",
      "$^{149}$Sm & 1.115 & 0.721 & 2.133 & 0.767\\\\\n",
      "\\hline\n",
      "$^{151}$Eu & 1.058 & 1.296 & 0.840 & 1.225\\\\\n",
      "\\hline\n",
      "$^{155}$Gd & 0.924 & 0.881 & 0.780 & 0.910\\\\\n",
      "\\hline\n",
      "$^{176}$Lu & 1.062 & 0.789 & 2.301 & 0.829\\\\\n",
      "\\hline\n",
      "$^{185}$Re & 0.999 & 0.994 & 1.009 & 1.030\\\\\n",
      "\\hline\n",
      "$^{197}$Au & 1.000 & 0.994 & 1.009 & 1.307\\\\\n",
      "\\hline\n",
      "\\end{tabular}\n",
      "\\end{table*}\n"
     ]
    }
   ],
   "source": [
    "# Compare BNC (2012 & 2015) and Maxwellian values for several non-1/v nuclei\n",
    "isotopes_comparison = ['S36', 'Kr83', 'In115', 'Sm149', 'Eu151', 'Gd155', 'Lu176', 'Re185', 'Au197']\n",
    "\n",
    "#for isotope in isotopes_comparison:\n",
    "#    print(\"Isotope: {}\\t Maxwellian @ 140K g_w = {:.3f}\\t BRR cold spectrum (2015) g_w = {:.3f}\\t \\\n",
    "#    Maxwellian @ 293 g_w = {:.3f}\\t BRR thermal spectrum (2002) g_w = {:.3f}\".format(isotope, g_w_Maxwellian(isotope,140),\\\n",
    "#                                                                                     g_w_BNC_cold(isotope), g_w_Maxwellian(isotope,293),\\\n",
    "#                                                                                     g_w_BNC_thermal(isotope)))\n",
    "\n",
    "# Start the LaTeX table\n",
    "print(\"\\\\begin{table*}[!t]\")\n",
    "print(\"\\\\centering{}\\\\caption{Comparison of Westcott $g$ factors for select non-$1/v$ nuclei using Maxwellian neutron energy distributions and spectra from the Budapest Research Reactor. \\\\protect\\\\label{Table:g-factor_comparison}}\")\n",
    "print(\"\\\\begin{tabular}{|c|c|c|c|c|}\")\n",
    "print(\"\\\\hline\")\n",
    "print(\"Isotope & g_w(T=140~K)$ & $g_w$, BRR cold spectrum (2015) & $g_w(T=293~K)$ & $g_w$, BRR thermal spectrum (2002) \\\\\\\\\")\n",
    "print(\"\\\\hline\")\n",
    "for isotope in isotopes_comparison:\n",
    "        row = f\"{format_isotope_latex(isotope)}\"\n",
    "        value = g_w_Maxwellian(isotope, 140)\n",
    "        row += f\" & {value:.3f}\"\n",
    "        value = g_w_BNC_cold(isotope)\n",
    "        row += f\" & {value:.3f}\"\n",
    "        value = g_w_Maxwellian(isotope, 293)\n",
    "        row += f\" & {value:.3f}\"\n",
    "        value = g_w_BNC_thermal(isotope)\n",
    "        row += f\" & {value:.3f}\"\n",
    "        print(row + \"\\\\\\\\\")\n",
    "        print(\"\\\\hline\")\n",
    "print(\"\\\\end{tabular}\")\n",
    "print(\"\\\\end{table*}\")"
   ]
  }
 ],
 "metadata": {
  "kernelspec": {
   "display_name": "Python 3 (ipykernel)",
   "language": "python",
   "name": "python3"
  },
  "language_info": {
   "codemirror_mode": {
    "name": "ipython",
    "version": 3
   },
   "file_extension": ".py",
   "mimetype": "text/x-python",
   "name": "python",
   "nbconvert_exporter": "python",
   "pygments_lexer": "ipython3",
   "version": "3.13.0"
  }
 },
 "nbformat": 4,
 "nbformat_minor": 5
}
